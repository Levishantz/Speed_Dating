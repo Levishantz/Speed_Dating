{
 "cells": [
  {
   "cell_type": "markdown",
   "metadata": {},
   "source": [
    "#### The goal of this code is to analyze the success of dates based on the goals that the partners had going in.\n",
    "\n",
    "### Assumption: People with the same goals would lead to the highest success rate.\n"
   ]
  },
  {
   "cell_type": "code",
   "execution_count": null,
   "metadata": {},
   "outputs": [],
   "source": [
    "import pandas as pd\n",
    "import numpy as np\n",
    "import matplotlib\n",
    "import matplotlib.pyplot as plt"
   ]
  },
  {
   "cell_type": "code",
   "execution_count": 2,
   "metadata": {},
   "outputs": [],
   "source": [
    "sd_csv = \"Resources/speed_dating_data.csv\"\n",
    "ind_df = pd.read_csv(sd_csv, encoding=\"ISO-8859-1\")\n",
    "par_df = pd.read_csv(sd_csv, encoding=\"ISO-8859-1\")\n",
    "desired_columns = ['iid', 'pid', 'goal', 'match']\n",
    "clean_ind = ind_df.copy()\n",
    "clean_ind = clean_ind[desired_columns]\n",
    "clean_par = par_df.copy()\n",
    "clean_par = clean_par[desired_columns]"
   ]
  },
  {
   "cell_type": "markdown",
   "metadata": {},
   "source": [
    "\n",
    "### Drop rows with goal == 6"
   ]
  },
  {
   "cell_type": "code",
   "execution_count": 3,
   "metadata": {},
   "outputs": [],
   "source": [
    "clean_ind.drop(clean_ind[clean_ind.goal == 6].index, inplace=True)\n",
    "clean_par.drop(clean_par[clean_par.goal == 6].index, inplace=True)"
   ]
  },
  {
   "cell_type": "code",
   "execution_count": 4,
   "metadata": {},
   "outputs": [
    {
     "data": {
      "text/plain": [
       "1.0    3426\n",
       "2.0    3012\n",
       "3.0     631\n",
       "5.0     510\n",
       "4.0     301\n",
       "Name: goal, dtype: int64"
      ]
     },
     "execution_count": 4,
     "metadata": {},
     "output_type": "execute_result"
    }
   ],
   "source": [
    "clean_ind.goal.value_counts()"
   ]
  },
  {
   "cell_type": "code",
   "execution_count": 5,
   "metadata": {},
   "outputs": [
    {
     "data": {
      "text/plain": [
       "1.0    3426\n",
       "2.0    3012\n",
       "3.0     631\n",
       "5.0     510\n",
       "4.0     301\n",
       "Name: goal, dtype: int64"
      ]
     },
     "execution_count": 5,
     "metadata": {},
     "output_type": "execute_result"
    }
   ],
   "source": [
    "clean_par.goal.value_counts()"
   ]
  },
  {
   "cell_type": "markdown",
   "metadata": {},
   "source": [
    "### Adding seriousness column to categorize people into 'serious' or 'casual' attendees"
   ]
  },
  {
   "cell_type": "code",
   "execution_count": 6,
   "metadata": {},
   "outputs": [
    {
     "data": {
      "text/html": [
       "<div>\n",
       "<style scoped>\n",
       "    .dataframe tbody tr th:only-of-type {\n",
       "        vertical-align: middle;\n",
       "    }\n",
       "\n",
       "    .dataframe tbody tr th {\n",
       "        vertical-align: top;\n",
       "    }\n",
       "\n",
       "    .dataframe thead th {\n",
       "        text-align: right;\n",
       "    }\n",
       "</style>\n",
       "<table border=\"1\" class=\"dataframe\">\n",
       "  <thead>\n",
       "    <tr style=\"text-align: right;\">\n",
       "      <th></th>\n",
       "      <th>iid</th>\n",
       "      <th>pid</th>\n",
       "      <th>goal</th>\n",
       "      <th>match</th>\n",
       "      <th>seriousness</th>\n",
       "    </tr>\n",
       "  </thead>\n",
       "  <tbody>\n",
       "    <tr>\n",
       "      <th>160</th>\n",
       "      <td>17</td>\n",
       "      <td>1.0</td>\n",
       "      <td>3.0</td>\n",
       "      <td>0</td>\n",
       "      <td>serious</td>\n",
       "    </tr>\n",
       "    <tr>\n",
       "      <th>161</th>\n",
       "      <td>17</td>\n",
       "      <td>2.0</td>\n",
       "      <td>3.0</td>\n",
       "      <td>0</td>\n",
       "      <td>serious</td>\n",
       "    </tr>\n",
       "    <tr>\n",
       "      <th>162</th>\n",
       "      <td>17</td>\n",
       "      <td>3.0</td>\n",
       "      <td>3.0</td>\n",
       "      <td>0</td>\n",
       "      <td>serious</td>\n",
       "    </tr>\n",
       "    <tr>\n",
       "      <th>163</th>\n",
       "      <td>17</td>\n",
       "      <td>4.0</td>\n",
       "      <td>3.0</td>\n",
       "      <td>0</td>\n",
       "      <td>serious</td>\n",
       "    </tr>\n",
       "    <tr>\n",
       "      <th>164</th>\n",
       "      <td>17</td>\n",
       "      <td>5.0</td>\n",
       "      <td>3.0</td>\n",
       "      <td>0</td>\n",
       "      <td>serious</td>\n",
       "    </tr>\n",
       "  </tbody>\n",
       "</table>\n",
       "</div>"
      ],
      "text/plain": [
       "     iid  pid  goal  match seriousness\n",
       "160   17  1.0   3.0      0     serious\n",
       "161   17  2.0   3.0      0     serious\n",
       "162   17  3.0   3.0      0     serious\n",
       "163   17  4.0   3.0      0     serious\n",
       "164   17  5.0   3.0      0     serious"
      ]
     },
     "execution_count": 6,
     "metadata": {},
     "output_type": "execute_result"
    }
   ],
   "source": [
    "clean_ind['seriousness'] = np.where((clean_ind['goal']==3) | (clean_ind['goal']==4), 'serious', 'casual')\n",
    "clean_par['seriousness'] = np.where((clean_par['goal']==3) | (clean_par['goal']==4), 'serious', 'casual')\n",
    "clean_ind.loc[clean_ind.seriousness == 'serious'].head()"
   ]
  },
  {
   "cell_type": "markdown",
   "metadata": {},
   "source": [
    "###  Merge the _ind and  _par  dataframes"
   ]
  },
  {
   "cell_type": "code",
   "execution_count": 7,
   "metadata": {},
   "outputs": [
    {
     "data": {
      "text/html": [
       "<div>\n",
       "<style scoped>\n",
       "    .dataframe tbody tr th:only-of-type {\n",
       "        vertical-align: middle;\n",
       "    }\n",
       "\n",
       "    .dataframe tbody tr th {\n",
       "        vertical-align: top;\n",
       "    }\n",
       "\n",
       "    .dataframe thead th {\n",
       "        text-align: right;\n",
       "    }\n",
       "</style>\n",
       "<table border=\"1\" class=\"dataframe\">\n",
       "  <thead>\n",
       "    <tr style=\"text-align: right;\">\n",
       "      <th></th>\n",
       "      <th>iid_x</th>\n",
       "      <th>pid_x</th>\n",
       "      <th>goal_x</th>\n",
       "      <th>match_x</th>\n",
       "      <th>seriousness_x</th>\n",
       "      <th>iid_y</th>\n",
       "      <th>pid_y</th>\n",
       "      <th>goal_y</th>\n",
       "      <th>match_y</th>\n",
       "      <th>seriousness_y</th>\n",
       "    </tr>\n",
       "  </thead>\n",
       "  <tbody>\n",
       "    <tr>\n",
       "      <th>0</th>\n",
       "      <td>1</td>\n",
       "      <td>11.0</td>\n",
       "      <td>2.0</td>\n",
       "      <td>0</td>\n",
       "      <td>casual</td>\n",
       "      <td>11</td>\n",
       "      <td>1.0</td>\n",
       "      <td>1.0</td>\n",
       "      <td>0</td>\n",
       "      <td>casual</td>\n",
       "    </tr>\n",
       "    <tr>\n",
       "      <th>11</th>\n",
       "      <td>1</td>\n",
       "      <td>12.0</td>\n",
       "      <td>2.0</td>\n",
       "      <td>0</td>\n",
       "      <td>casual</td>\n",
       "      <td>12</td>\n",
       "      <td>1.0</td>\n",
       "      <td>1.0</td>\n",
       "      <td>0</td>\n",
       "      <td>casual</td>\n",
       "    </tr>\n",
       "    <tr>\n",
       "      <th>22</th>\n",
       "      <td>1</td>\n",
       "      <td>13.0</td>\n",
       "      <td>2.0</td>\n",
       "      <td>1</td>\n",
       "      <td>casual</td>\n",
       "      <td>13</td>\n",
       "      <td>1.0</td>\n",
       "      <td>2.0</td>\n",
       "      <td>1</td>\n",
       "      <td>casual</td>\n",
       "    </tr>\n",
       "    <tr>\n",
       "      <th>33</th>\n",
       "      <td>1</td>\n",
       "      <td>14.0</td>\n",
       "      <td>2.0</td>\n",
       "      <td>1</td>\n",
       "      <td>casual</td>\n",
       "      <td>14</td>\n",
       "      <td>1.0</td>\n",
       "      <td>2.0</td>\n",
       "      <td>1</td>\n",
       "      <td>casual</td>\n",
       "    </tr>\n",
       "    <tr>\n",
       "      <th>44</th>\n",
       "      <td>1</td>\n",
       "      <td>15.0</td>\n",
       "      <td>2.0</td>\n",
       "      <td>1</td>\n",
       "      <td>casual</td>\n",
       "      <td>15</td>\n",
       "      <td>1.0</td>\n",
       "      <td>1.0</td>\n",
       "      <td>1</td>\n",
       "      <td>casual</td>\n",
       "    </tr>\n",
       "  </tbody>\n",
       "</table>\n",
       "</div>"
      ],
      "text/plain": [
       "    iid_x  pid_x  goal_x  match_x seriousness_x  iid_y  pid_y  goal_y  \\\n",
       "0       1   11.0     2.0        0        casual     11    1.0     1.0   \n",
       "11      1   12.0     2.0        0        casual     12    1.0     1.0   \n",
       "22      1   13.0     2.0        1        casual     13    1.0     2.0   \n",
       "33      1   14.0     2.0        1        casual     14    1.0     2.0   \n",
       "44      1   15.0     2.0        1        casual     15    1.0     1.0   \n",
       "\n",
       "    match_y seriousness_y  \n",
       "0         0        casual  \n",
       "11        0        casual  \n",
       "22        1        casual  \n",
       "33        1        casual  \n",
       "44        1        casual  "
      ]
     },
     "execution_count": 7,
     "metadata": {},
     "output_type": "execute_result"
    }
   ],
   "source": [
    "combo_df = pd.merge(clean_ind,clean_par, left_on = 'iid',right_on='pid')\n",
    "combo_df = combo_df[combo_df['pid_x'] == combo_df['iid_y']]\n",
    "combo_df.head()"
   ]
  },
  {
   "cell_type": "code",
   "execution_count": 8,
   "metadata": {},
   "outputs": [],
   "source": [
    "found = []\n",
    "found_sets = []\n",
    "for x, y in zip(combo_df['pid_x'], combo_df['iid_x']):\n",
    "    if set([x, y]) in found_sets:\n",
    "        found.append(False)\n",
    "    else:\n",
    "        found.append(True)\n",
    "        found_sets.append(set([x, y]))\n",
    "combo_df = combo_df[found]\n",
    "combo_df_matches = combo_df.copy()\n"
   ]
  },
  {
   "cell_type": "markdown",
   "metadata": {},
   "source": [
    "### Counting the _number of meetings_ of each preference pairing"
   ]
  },
  {
   "cell_type": "code",
   "execution_count": 43,
   "metadata": {},
   "outputs": [
    {
     "data": {
      "text/plain": [
       "<BarContainer object of 3 artists>"
      ]
     },
     "execution_count": 43,
     "metadata": {},
     "output_type": "execute_result"
    },
    {
     "data": {
      "image/png": "[encoded data removed]",
      "text/plain": [
       "<Figure size 432x288 with 1 Axes>"
      ]
     },
     "metadata": {
      "needs_background": "light"
     },
     "output_type": "display_data"
    }
   ],
   "source": [
    "counts_df = combo_df.groupby([\"seriousness_x\", \"seriousness_y\"]).size().reset_index(name=\"times_met\")\n",
    "# s=serious, c=casual\n",
    "ss = int(counts_df.loc[(counts_df.seriousness_x == 'serious') & (counts_df.seriousness_y == 'serious'), 'times_met'])\n",
    "cc = int(counts_df.loc[(counts_df.seriousness_x == 'casual') & (counts_df.seriousness_y == 'casual'), 'times_met'])\n",
    "cs = int(counts_df.loc[(counts_df.seriousness_x == 'casual') & (counts_df.seriousness_y == 'serious'), 'times_met'])\n",
    "sc = int(counts_df.loc[(counts_df.seriousness_x == 'serious') & (counts_df.seriousness_y == 'casual'), 'times_met'])\n",
    "sc = cs + sc\n",
    "\n",
    "plt.bar(['Both Serious', 'Both Casual', 'Serious-Casual'],[ss, cc, sc])\n"
   ]
  },
  {
   "cell_type": "code",
   "execution_count": 91,
   "metadata": {},
   "outputs": [
    {
     "data": {
      "text/plain": [
       "Text(1.55, 1500, 'Note:\\nMost pairings were of people with the same goal ')"
      ]
     },
     "execution_count": 91,
     "metadata": {},
     "output_type": "execute_result"
    },
    {
     "data": {
      "image/png": "[encoded data removed]",
      "text/plain": [
       "<Figure size 432x288 with 1 Axes>"
      ]
     },
     "metadata": {
      "needs_background": "light"
     },
     "output_type": "display_data"
    }
   ],
   "source": [
    "plt.bar(['Same Goal', 'Different Goal'], [ss+cc, sc],color=['lightseagreen','coral'])\n",
    "plt.title(\"Number of times each goal-pairing met\", loc='center')\n",
    "plt.ylabel(\"Times Paired\")\n",
    "plt.text(1.55,1500, \"Note:\\nMost pairings were of people with the same goal \")\n"
   ]
  },
  {
   "cell_type": "markdown",
   "metadata": {},
   "source": [
    "### Counting the _number_ of matches based on seriousness"
   ]
  },
  {
   "cell_type": "code",
   "execution_count": 10,
   "metadata": {},
   "outputs": [],
   "source": [
    "#dropping non-match pairings\n",
    "combo_df_matches.drop(combo_df[combo_df.match_x == 0].index, inplace=True)\n",
    "\n",
    "#groupby number of matches based on serious-serious pairing\n",
    "counts_df_matches = combo_df_matches.groupby([\"seriousness_x\", \"seriousness_y\"]).size().reset_index(name=\"times_matched\")\n"
   ]
  },
  {
   "cell_type": "code",
   "execution_count": 11,
   "metadata": {},
   "outputs": [],
   "source": [
    "#finding the counts. 'M' is a code added to these match counts, to distinguish them from the meeting counts above.\n",
    "ssM = int(counts_df_matches.loc[(counts_df.seriousness_x == 'serious') & (counts_df_matches.seriousness_y == 'serious'), 'times_matched'])\n",
    "ccM = int(counts_df_matches.loc[(counts_df.seriousness_x == 'casual') & (counts_df_matches.seriousness_y == 'casual'), 'times_matched'])\n",
    "csM = int(counts_df_matches.loc[(counts_df.seriousness_x == 'casual') & (counts_df_matches.seriousness_y == 'serious'), 'times_matched'])\n",
    "scM = int(counts_df_matches.loc[(counts_df.seriousness_x == 'serious') & (counts_df_matches.seriousness_y == 'casual'), 'times_matched'])\n",
    "scM = csM + scM"
   ]
  },
  {
   "cell_type": "code",
   "execution_count": 12,
   "metadata": {},
   "outputs": [
    {
     "data": {
      "text/plain": [
       "<BarContainer object of 3 artists>"
      ]
     },
     "execution_count": 12,
     "metadata": {},
     "output_type": "execute_result"
    },
    {
     "data": {
      "image/png": "[encoded data removed]",
      "text/plain": [
       "<Figure size 432x288 with 1 Axes>"
      ]
     },
     "metadata": {
      "needs_background": "light"
     },
     "output_type": "display_data"
    }
   ],
   "source": [
    "plt.bar(['Both Serious', 'Both Casual', 'Serious-Casual'],[ssM, ccM, scM])"
   ]
  },
  {
   "cell_type": "code",
   "execution_count": 96,
   "metadata": {},
   "outputs": [
    {
     "data": {
      "text/plain": [
       "Text(0, 0.5, 'Times Matched')"
      ]
     },
     "execution_count": 96,
     "metadata": {},
     "output_type": "execute_result"
    },
    {
     "data": {
      "image/png": "[encoded data removed]",
      "text/plain": [
       "<Figure size 432x288 with 1 Axes>"
      ]
     },
     "metadata": {
      "needs_background": "light"
     },
     "output_type": "display_data"
    }
   ],
   "source": [
    "plt.bar(['Same Goal', 'Different Goal'], [ssM+ccM, scM],color='limegreen')\n",
    "plt.title(\"The number of times each goal-pairing matched\", loc='center')\n",
    "plt.ylabel(\"Times Matched\")"
   ]
  },
  {
   "cell_type": "code",
   "execution_count": 76,
   "metadata": {},
   "outputs": [
    {
     "name": "stdout",
     "output_type": "stream",
     "text": [
      "SS: (5, 44, 0.11)\n",
      "CC: (489, 2943, 0.17)\n",
      "SC: (135, 791, 0.17)\n"
     ]
    }
   ],
   "source": [
    "#test\n",
    "print(f\"SS: {ssM,ss,round(ssM/ss,2)}\")\n",
    "print(f\"CC: {ccM,cc,round(ccM/cc,2)}\")\n",
    "print(f\"SC: {scM,sc,round(scM/sc,2)}\")"
   ]
  },
  {
   "cell_type": "markdown",
   "metadata": {},
   "source": [
    "### Success rate of goal pairings. Calculating the _proportion_ of meetings of each goal-pairing that lead to a successful match"
   ]
  },
  {
   "cell_type": "code",
   "execution_count": 73,
   "metadata": {},
   "outputs": [],
   "source": [
    "ssRate = (ssM/ss)*100\n",
    "ccRate = (ccM/cc)*100\n",
    "scRate = (scM/sc)*100"
   ]
  },
  {
   "cell_type": "code",
   "execution_count": 77,
   "metadata": {},
   "outputs": [
    {
     "name": "stdout",
     "output_type": "stream",
     "text": [
      "11.363636363636363\n",
      "16.615698267074414\n",
      "17.06700379266751\n"
     ]
    }
   ],
   "source": [
    "#test\n",
    "print(ssM/ss*100)\n",
    "print(ccM/cc*100)\n",
    "print(scM/sc*100)"
   ]
  },
  {
   "cell_type": "code",
   "execution_count": 70,
   "metadata": {},
   "outputs": [
    {
     "data": {
      "text/plain": [
       "Text(0, 0.5, 'Success Rate %')"
      ]
     },
     "execution_count": 70,
     "metadata": {},
     "output_type": "execute_result"
    },
    {
     "data": {
      "image/png": "[encoded data removed]",
      "text/plain": [
       "<Figure size 432x288 with 1 Axes>"
      ]
     },
     "metadata": {
      "needs_background": "light"
     },
     "output_type": "display_data"
    }
   ],
   "source": [
    "plt.bar(['Both Serious', 'Both Casual', 'Serious-Casual'], [ssRate, ccRate, scRate])\n",
    "plt.ylabel(\"Success Rate %\")"
   ]
  },
  {
   "cell_type": "code",
   "execution_count": 68,
   "metadata": {
    "scrolled": false
   },
   "outputs": [
    {
     "data": {
      "image/png": "[encoded data removed]",
      "text/plain": [
       "<Figure size 360x432 with 1 Axes>"
      ]
     },
     "metadata": {
      "needs_background": "light"
     },
     "output_type": "display_data"
    }
   ],
   "source": [
    "fig = plt.figure(figsize=(5,6))\n",
    "\n",
    "# list of x-axis locations for the bars\n",
    "locations = [.5,.7]\n",
    "\n",
    "graph = plt.bar(locations, \n",
    "        [(ssM+ccM)/(ss+cc)*100,(scM/sc)*100], \n",
    "        color=['lightseagreen','coral'], \n",
    "        width=[.15,.15])\n",
    "\n",
    "plt.ylabel(\"Success rate\")\n",
    "plt.xticks(locations,['Same Goal', 'Different Goal'], fontsize=12)\n",
    "plt.yticks([0,20,40,60,80,100],['0%','20%','40%','60%','80%','100%'])\n",
    "plt.title(\"The proportion of matches \\nbased on goal homogeneity\", loc='center')\n",
    "\n",
    "plt.text(.82,20,\"Note:\\n'Goal' refers to the intention of each the partner; \\n\\\n",
    "whether they were there to find a serious relationship (serious), \\n\\\n",
    "or were they there something casual or short-term (casual)?\")\n",
    "\n",
    "#adds percentages on top of bars\n",
    "for p in graph.patches:\n",
    "    width, height = p.get_width(), p.get_height()\n",
    "    x, y = p.get_xy()\n",
    "    plt.annotate('{:.2%}'.format(height/100), (x+.045, y + height + 4), fontsize=12)\n",
    "\n",
    "    "
   ]
  },
  {
   "cell_type": "markdown",
   "metadata": {},
   "source": [
    "### Conclusion:\n",
    "#### The results show that having the same goal does not lead to more success.\n",
    "#### Likewise, opposing goals lead to roughly the same outcome as similar goals."
   ]
  },
  {
   "cell_type": "code",
   "execution_count": null,
   "metadata": {},
   "outputs": [],
   "source": []
  }
 ],
 "metadata": {
  "kernelspec": {
   "display_name": "Python 3",
   "language": "python",
   "name": "python3"
  },
  "language_info": {
   "codemirror_mode": {
    "name": "ipython",
    "version": 3
   },
   "file_extension": ".py",
   "mimetype": "text/x-python",
   "name": "python",
   "nbconvert_exporter": "python",
   "pygments_lexer": "ipython3",
   "version": "3.7.3"
  }
 },
 "nbformat": 4,
 "nbformat_minor": 2
}
